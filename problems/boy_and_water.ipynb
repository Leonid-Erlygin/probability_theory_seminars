{
 "cells": [
  {
   "cell_type": "code",
   "execution_count": 1,
   "metadata": {},
   "outputs": [],
   "source": [
    "import numpy as np"
   ]
  },
  {
   "cell_type": "markdown",
   "metadata": {},
   "source": [
    "Мальчику Саше каждый день нужно принести домой ведро воды единичного объёма.  \n",
    "Он каждый раз зачерпывает полное ведро из колодца, а по дороге домой разливает долю  \n",
    "воды, равномерно распределённую на отрезке $[0, 1]$.  \n",
    "Сколько в среднем раз в день ему приходится ходить за водой?"
   ]
  },
  {
   "cell_type": "code",
   "execution_count": 2,
   "metadata": {},
   "outputs": [],
   "source": [
    "analitical_mean = 1 + np.e"
   ]
  },
  {
   "cell_type": "code",
   "execution_count": 18,
   "metadata": {},
   "outputs": [],
   "source": [
    "def sample_num_buckets():\n",
    "    n = 0\n",
    "    sum = 0\n",
    "    while sum < 1:\n",
    "        sum += np.random.rand()\n",
    "        n += 1\n",
    "    return n + 1"
   ]
  },
  {
   "cell_type": "code",
   "execution_count": 19,
   "metadata": {},
   "outputs": [
    {
     "name": "stderr",
     "output_type": "stream",
     "text": [
      "100%|██████████| 100000000/100000000 [02:47<00:00, 597859.93it/s]\n"
     ]
    }
   ],
   "source": [
    "from tqdm import tqdm\n",
    "\n",
    "N = 100000000\n",
    "empirical_mean = 0\n",
    "\n",
    "for i in tqdm(range(N)):\n",
    "    empirical_mean = (empirical_mean * i + sample_num_buckets()) / (i + 1)"
   ]
  },
  {
   "cell_type": "code",
   "execution_count": 20,
   "metadata": {},
   "outputs": [
    {
     "data": {
      "text/plain": [
       "(3.7184067799999334, 3.718281828459045)"
      ]
     },
     "execution_count": 20,
     "metadata": {},
     "output_type": "execute_result"
    }
   ],
   "source": [
    "empirical_mean, analitical_mean"
   ]
  },
  {
   "cell_type": "code",
   "execution_count": null,
   "metadata": {},
   "outputs": [],
   "source": []
  }
 ],
 "metadata": {
  "kernelspec": {
   "display_name": "base",
   "language": "python",
   "name": "python3"
  },
  "language_info": {
   "codemirror_mode": {
    "name": "ipython",
    "version": 3
   },
   "file_extension": ".py",
   "mimetype": "text/x-python",
   "name": "python",
   "nbconvert_exporter": "python",
   "pygments_lexer": "ipython3",
   "version": "3.9.7"
  }
 },
 "nbformat": 4,
 "nbformat_minor": 2
}
