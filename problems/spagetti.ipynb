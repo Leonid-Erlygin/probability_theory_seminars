{
 "cells": [
  {
   "cell_type": "code",
   "execution_count": 3,
   "metadata": {},
   "outputs": [],
   "source": [
    "import numpy as np\n",
    "from tqdm import tqdm"
   ]
  },
  {
   "cell_type": "markdown",
   "metadata": {},
   "source": [
    " Гость ресторана решил заказать блюдо - спагетти болоньезе. Официант подал ему тарелку, в которой оказалось ровно $n$ штук спагетти. Гостю не понравился вид блюда, и он решил заняться следующим: случайными образом выбирать $2$ конца спагетти и соединять их. Такую процедуру он продолжал до тех пор, пока в тарелке не осталось свободных концов. Каково математическое ожидание числа колец спагетти в тарелке?"
   ]
  },
  {
   "cell_type": "code",
   "execution_count": 24,
   "metadata": {},
   "outputs": [
    {
     "name": "stderr",
     "output_type": "stream",
     "text": [
      "100%|██████████| 500000/500000 [00:17<00:00, 28553.34it/s]\n"
     ]
    }
   ],
   "source": [
    "n = 4\n",
    "N = int(5e5)\n",
    "empirical_mean = 0\n",
    "\n",
    "\n",
    "def sample_ring_count(n):\n",
    "    n_left = n\n",
    "    ring_count = 0\n",
    "    while n_left > 0:\n",
    "        first_end, second_end = np.random.choice(2 * n_left, 2, replace=False)\n",
    "        if first_end // 2 == second_end // 2:\n",
    "            ring_count += 1\n",
    "            n_left -= 1\n",
    "        else:\n",
    "            n_left -= 1\n",
    "    return ring_count\n",
    "\n",
    "\n",
    "for i in tqdm(range(N)):\n",
    "    empirical_mean = (empirical_mean * i + sample_ring_count(n)) / (i + 1)"
   ]
  },
  {
   "cell_type": "code",
   "execution_count": 25,
   "metadata": {},
   "outputs": [],
   "source": [
    "analitical_mean = np.sum(1 / (2 * np.arange(1, n + 1) - 1))"
   ]
  },
  {
   "cell_type": "code",
   "execution_count": 26,
   "metadata": {},
   "outputs": [
    {
     "data": {
      "text/plain": [
       "(1.676313999999992, 1.676190476190476)"
      ]
     },
     "execution_count": 26,
     "metadata": {},
     "output_type": "execute_result"
    }
   ],
   "source": [
    "empirical_mean, analitical_mean"
   ]
  },
  {
   "cell_type": "code",
   "execution_count": null,
   "metadata": {},
   "outputs": [],
   "source": []
  }
 ],
 "metadata": {
  "kernelspec": {
   "display_name": "base",
   "language": "python",
   "name": "python3"
  },
  "language_info": {
   "codemirror_mode": {
    "name": "ipython",
    "version": 3
   },
   "file_extension": ".py",
   "mimetype": "text/x-python",
   "name": "python",
   "nbconvert_exporter": "python",
   "pygments_lexer": "ipython3",
   "version": "3.9.7"
  }
 },
 "nbformat": 4,
 "nbformat_minor": 2
}
