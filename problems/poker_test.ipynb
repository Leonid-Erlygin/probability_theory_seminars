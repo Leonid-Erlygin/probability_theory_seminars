{
 "cells": [
  {
   "cell_type": "code",
   "execution_count": 1,
   "metadata": {},
   "outputs": [],
   "source": [
    "import numpy as np\n",
    "from tqdm import tqdm\n",
    "import matplotlib.pyplot as plt"
   ]
  },
  {
   "cell_type": "markdown",
   "metadata": {},
   "source": [
    "## 1. One pair probability"
   ]
  },
  {
   "cell_type": "code",
   "execution_count": 2,
   "metadata": {},
   "outputs": [
    {
     "name": "stderr",
     "output_type": "stream",
     "text": [
      "100%|██████████| 20/20 [00:26<00:00,  1.34s/it]\n"
     ]
    }
   ],
   "source": [
    "M = 10\n",
    "N = int(1e5)\n",
    "probs = []\n",
    "for _ in tqdm(range(M)):\n",
    "    rnd = np.random.default_rng(5)\n",
    "    n_pair = 0\n",
    "    for _ in range(N):\n",
    "        flop = rnd.choice(50, 3, replace=False) // 4\n",
    "        # if 1 in flop or 2 in flop:\n",
    "        #     n_pair+=1\n",
    "        if 1 in flop:\n",
    "            n_pair += 1\n",
    "    probs.append(n_pair / N)"
   ]
  },
  {
   "cell_type": "code",
   "execution_count": 3,
   "metadata": {},
   "outputs": [
    {
     "data": {
      "text/plain": [
       "(0.22548000000000004, 2.7755575615628914e-17)"
      ]
     },
     "execution_count": 3,
     "metadata": {},
     "output_type": "execute_result"
    }
   ],
   "source": [
    "np.mean(probs), np.std(probs)"
   ]
  },
  {
   "cell_type": "code",
   "execution_count": 41,
   "metadata": {},
   "outputs": [
    {
     "name": "stderr",
     "output_type": "stream",
     "text": [
      "100%|██████████| 20/20 [00:30<00:00,  1.52s/it]\n"
     ]
    }
   ],
   "source": [
    "N = int(1e5)\n",
    "probs = []\n",
    "for _ in tqdm(range(M)):\n",
    "    rnd = np.random.default_rng(5)\n",
    "    n_pair = 0\n",
    "    for _ in range(N):\n",
    "        flop = rnd.choice(50, 5, replace=False) // 4\n",
    "        if 1 in flop or 2 in flop:\n",
    "            n_pair += 1\n",
    "    probs.append(n_pair / N)"
   ]
  },
  {
   "cell_type": "code",
   "execution_count": 42,
   "metadata": {},
   "outputs": [
    {
     "data": {
      "text/plain": [
       "(0.5984700000000001, 1.1102230246251565e-16)"
      ]
     },
     "execution_count": 42,
     "metadata": {},
     "output_type": "execute_result"
    }
   ],
   "source": [
    "np.mean(probs), np.std(probs)"
   ]
  },
  {
   "cell_type": "code",
   "execution_count": null,
   "metadata": {},
   "outputs": [],
   "source": []
  }
 ],
 "metadata": {
  "kernelspec": {
   "display_name": "base",
   "language": "python",
   "name": "python3"
  },
  "language_info": {
   "codemirror_mode": {
    "name": "ipython",
    "version": 3
   },
   "file_extension": ".py",
   "mimetype": "text/x-python",
   "name": "python",
   "nbconvert_exporter": "python",
   "pygments_lexer": "ipython3",
   "version": "3.9.7"
  }
 },
 "nbformat": 4,
 "nbformat_minor": 2
}
