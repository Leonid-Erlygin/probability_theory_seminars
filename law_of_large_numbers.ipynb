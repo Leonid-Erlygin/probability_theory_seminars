{
 "cells": [
  {
   "cell_type": "code",
   "execution_count": 1,
   "metadata": {},
   "outputs": [],
   "source": [
    "import numpy as np"
   ]
  },
  {
   "cell_type": "markdown",
   "metadata": {},
   "source": [
    "### 1. Оценка матожидания в схеме Бернулли\n",
    "\n",
    "В коде ниже произведём N раз n кратное подбрасывание монеты и проверим справедливость фомулы для закона больших чисел:\n",
    "\n",
    "$$\n",
    "\\mathrm{P}\\left(\\left|\\frac{S_n}{n}-p\\right|\\geq\\varepsilon\\right)=\\sum_{\\{k:\\left|\\frac{k}{n}-p\\right|\\geq\\varepsilon\\}}P_n(k) \\leq \\frac{1}{4n\\varepsilon^2}\n",
    "$$\n",
    "\n",
    "Неравенство\n",
    "$$\n",
    "\\mathrm{P}\\left(\\left|\\frac{S_n}{n}-p\\right|\\leq\\varepsilon\\right)\\geq 1-\\alpha \\tag{1}\n",
    "$$\n",
    "Будет выполнятся при \n",
    "$$\n",
    "n\\geq\\frac{1}{4\\varepsilon^2\\alpha}\n",
    "$$\n",
    "Пусть $\\alpha = 0.05$ и $\\varepsilon=0.02$, тогда для $n=12500$ выполнения неравенства (2) будет гарантированно.\n",
    "\n",
    "Проверим это\n"
   ]
  },
  {
   "cell_type": "code",
   "execution_count": 20,
   "metadata": {},
   "outputs": [
    {
     "name": "stdout",
     "output_type": "stream",
     "text": [
      "Estimate of success probability (1): 1.0\n"
     ]
    }
   ],
   "source": [
    "N = 5000\n",
    "n = 12500\n",
    "p = 0.5\n",
    "alpha = 0.05\n",
    "epsilon = 0.02\n",
    "diffs = []\n",
    "for _ in range(N):\n",
    "    omega = np.random.binomial(1, p, n)\n",
    "    S_n = np.sum(omega)\n",
    "    diff = np.abs(S_n / n - p)\n",
    "    diffs.append(diff)\n",
    "diffs = np.array(diffs)\n",
    "number_of_errors = np.sum(diffs > epsilon)\n",
    "print(f\"Estimate of success probability (1): {np.round(1-number_of_errors/N, 3)}\")"
   ]
  }
 ],
 "metadata": {
  "kernelspec": {
   "display_name": ".venv",
   "language": "python",
   "name": "python3"
  },
  "language_info": {
   "codemirror_mode": {
    "name": "ipython",
    "version": 3
   },
   "file_extension": ".py",
   "mimetype": "text/x-python",
   "name": "python",
   "nbconvert_exporter": "python",
   "pygments_lexer": "ipython3",
   "version": "3.11.4"
  },
  "orig_nbformat": 4
 },
 "nbformat": 4,
 "nbformat_minor": 2
}
