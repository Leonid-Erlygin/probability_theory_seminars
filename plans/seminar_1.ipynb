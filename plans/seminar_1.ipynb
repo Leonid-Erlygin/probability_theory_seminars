{
 "cells": [
  {
   "cell_type": "code",
   "execution_count": null,
   "metadata": {},
   "outputs": [],
   "source": [
    "import numpy as np"
   ]
  },
  {
   "cell_type": "markdown",
   "metadata": {},
   "source": [
    "|  sdf |  sdfsdf |   |   |\n",
    "|---|---|---|---|\n",
    "|  dsf |   |   |   |\n",
    "|  dsf |   |   |   |\n"
   ]
  },
  {
   "cell_type": "markdown",
   "metadata": {},
   "source": []
  }
 ],
 "metadata": {
  "language_info": {
   "name": "python"
  }
 },
 "nbformat": 4,
 "nbformat_minor": 2
}
