{
 "cells": [
  {
   "cell_type": "code",
   "execution_count": 1,
   "metadata": {},
   "outputs": [],
   "source": [
    "import numpy as np\n",
    "from scipy.special import binom"
   ]
  },
  {
   "cell_type": "code",
   "execution_count": 8,
   "metadata": {},
   "outputs": [
    {
     "data": {
      "text/plain": [
       "1.1019119461502684e-10"
      ]
     },
     "execution_count": 8,
     "metadata": {},
     "output_type": "execute_result"
    }
   ],
   "source": [
    "1 / binom(36, 18)"
   ]
  },
  {
   "cell_type": "code",
   "execution_count": 9,
   "metadata": {},
   "outputs": [
    {
     "name": "stderr",
     "output_type": "stream",
     "text": [
      "C:\\Users\\mrasp\\AppData\\Local\\Temp\\ipykernel_4144\\1824305982.py:1: DeprecationWarning: `np.math` is a deprecated alias for the standard library `math` module (Deprecated Numpy 1.25). Replace usages of `np.math` with `math`\n",
      "  (np.math.factorial(18))**2/np.math.factorial(36)\n"
     ]
    },
    {
     "data": {
      "text/plain": [
       "1.1019119461502684e-10"
      ]
     },
     "execution_count": 9,
     "metadata": {},
     "output_type": "execute_result"
    }
   ],
   "source": [
    "(np.math.factorial(18)) ** 2 / np.math.factorial(36)"
   ]
  },
  {
   "cell_type": "code",
   "execution_count": 2,
   "metadata": {},
   "outputs": [
    {
     "data": {
      "text/plain": [
       "0.9651312540863107"
      ]
     },
     "execution_count": 2,
     "metadata": {},
     "output_type": "execute_result"
    }
   ],
   "source": [
    "n = 50\n",
    "M = 365\n",
    "1 - np.exp(-(n * (n - 1) / (2 * M)))"
   ]
  },
  {
   "cell_type": "markdown",
   "metadata": {},
   "source": [
    "## Визуализация задач"
   ]
  },
  {
   "cell_type": "markdown",
   "metadata": {},
   "source": [
    "### Семинар 1. Задача 5\n",
    "\n",
    "Казалось бы, при бросании двух игральных костей как $9$, так и\n",
    "$10$ можно получить двумя разными способами: $9 = 3 + 6 = 4 + 5$,\n",
    "$10 = 4 + 6 = 5 + 5$. \n",
    "В случае бросания трех костей $9$ и $10$ получаются\n",
    "$6$ различными способами. \n",
    "Почему тогда при бросании двух костей $9$ появляется чаще $10$, а при бросании трех костей – $10$ чаще $9$?"
   ]
  },
  {
   "cell_type": "code",
   "execution_count": 19,
   "metadata": {},
   "outputs": [],
   "source": [
    "n_throws = 5000\n",
    "sums = []\n",
    "for _ in range(n_throws):\n",
    "    a = np.random.multinomial(1, [1 / 6] * 6, size=2)\n",
    "    b = np.arange(1, 7)[np.argmax(a, axis=1)]\n",
    "    sum = np.sum(b)\n",
    "    sums.append(sum)\n",
    "sums = np.array(sums)"
   ]
  },
  {
   "cell_type": "code",
   "execution_count": 35,
   "metadata": {},
   "outputs": [
    {
     "name": "stderr",
     "output_type": "stream",
     "text": [
      "c:\\home\\probability_theory_seminars\\.venv\\Lib\\site-packages\\seaborn\\_oldcore.py:1498: FutureWarning: is_categorical_dtype is deprecated and will be removed in a future version. Use isinstance(dtype, CategoricalDtype) instead\n",
      "  if pd.api.types.is_categorical_dtype(vector):\n",
      "c:\\home\\probability_theory_seminars\\.venv\\Lib\\site-packages\\seaborn\\_oldcore.py:1119: FutureWarning: use_inf_as_na option is deprecated and will be removed in a future version. Convert inf values to NaN before operating instead.\n",
      "  with pd.option_context('mode.use_inf_as_na', True):\n"
     ]
    },
    {
     "data": {
      "image/png": "[encoded data removed]",
      "text/plain": [
       "<Figure size 640x480 with 1 Axes>"
      ]
     },
     "metadata": {},
     "output_type": "display_data"
    }
   ],
   "source": [
    "import seaborn as sns\n",
    "\n",
    "sns.histplot(sums, bins=11);"
   ]
  },
  {
   "cell_type": "code",
   "execution_count": 34,
   "metadata": {},
   "outputs": [
    {
     "data": {
      "text/plain": [
       "(array([0.76074766]), 0.75)"
      ]
     },
     "execution_count": 34,
     "metadata": {},
     "output_type": "execute_result"
    }
   ],
   "source": [
    "values, count = np.unique(sums, return_counts=True)\n",
    "count[np.where(values == 10)] / count[np.where(values == 9)], 3 / 4"
   ]
  },
  {
   "cell_type": "markdown",
   "metadata": {},
   "source": [
    "### Семинар 2. Задача 3\n",
    "\n",
    "Известно, что в результате бросания десяти игральных костей\n",
    "выпала по крайней мере одна «шестерка». Какова вероятность того,\n",
    "что число выпавших «шестерок» больше единицы?"
   ]
  },
  {
   "cell_type": "markdown",
   "metadata": {},
   "source": [
    "Мы хотим понять смысл определения условной вероятности.  \n",
    "Пусть $(\\Omega, \\mathcal{F}, \\mathrm{P})$ - вероятностное пространство, $A,B\\in\\mathcal{F},\\,\\mathrm{P}(B)\\neq 0$.\n",
    "Тогда **условной вероятностью события $A$ при условии события $B$** называется\n",
    "\\begin{equation*}\n",
    "    \\mathrm{P}(A|B)=\\frac{\\mathrm{P}(AB)}{\\mathrm{P}(B)}\n",
    "\\end{equation*}\n",
    "\n",
    "Можно показать, что $\\mathcal{F}_B=\\{AB,A\\in \\mathcal{F}\\}$ является $\\sigma$-алгеброй.\n",
    "Кроме того, условная вероятность удовлетворяет всем условиям из аксиаматического определения вероятности (неотрицательность, нормировка на единицу и счётная аддитивность).\n",
    "Это позволяет определить *условное вероятностное пространство*.  \n",
    "\n",
    "**Условным вероятностным пространством** называется тройка $(B, \\mathcal{F}_B, \\mathcal{P}_B)$, где $\\mathcal{F}_B=\\{AB,A\\in \\mathcal{F}\\}$, $\\mathcal{P}_B(A) = \\mathcal{P}(A|B)$\n"
   ]
  },
  {
   "cell_type": "code",
   "execution_count": 46,
   "metadata": {},
   "outputs": [],
   "source": [
    "import numpy as np\n",
    "from scipy.special import binom\n",
    "\n",
    "n_throws = 10000\n",
    "index_to_number = np.arange(1, 7)\n",
    "A_events = []\n",
    "for _ in range(n_throws):\n",
    "    a = np.random.multinomial(1, [1 / 6] * 6, size=10)\n",
    "    numbers = index_to_number[np.argmax(a, axis=1)]\n",
    "    if 6 in numbers:\n",
    "        A_events.append(numbers)\n",
    "A_events = np.array(A_events)"
   ]
  },
  {
   "cell_type": "markdown",
   "metadata": {},
   "source": [
    "### Доля исходов, когда A произошло стремится к вероятности A"
   ]
  },
  {
   "cell_type": "code",
   "execution_count": 47,
   "metadata": {},
   "outputs": [
    {
     "data": {
      "text/plain": [
       "0.8403"
      ]
     },
     "execution_count": 47,
     "metadata": {},
     "output_type": "execute_result"
    }
   ],
   "source": [
    "A_events.shape[0] / n_throws"
   ]
  },
  {
   "cell_type": "markdown",
   "metadata": {},
   "source": [
    "### Доля исходов, когда B произошло стремится к вероятности B"
   ]
  },
  {
   "cell_type": "code",
   "execution_count": 48,
   "metadata": {},
   "outputs": [
    {
     "data": {
      "text/plain": [
       "0.5097"
      ]
     },
     "execution_count": 48,
     "metadata": {},
     "output_type": "execute_result"
    }
   ],
   "source": [
    "np.sum(np.sum(A_events == 6, axis=1) > 1) / n_throws"
   ]
  },
  {
   "cell_type": "markdown",
   "metadata": {},
   "source": [
    "### Доля тех элементарных событий, принадлежащий A, для которых B верно, стремится к условной вероятности $\\mathrm{P}(B|A)$"
   ]
  },
  {
   "cell_type": "code",
   "execution_count": 50,
   "metadata": {},
   "outputs": [
    {
     "data": {
      "text/plain": [
       "0.6065690824705462"
      ]
     },
     "execution_count": 50,
     "metadata": {},
     "output_type": "execute_result"
    }
   ],
   "source": [
    "np.sum(np.sum(A_events == 6, axis=1) > 1) / A_events.shape[0]"
   ]
  },
  {
   "cell_type": "markdown",
   "metadata": {},
   "source": [
    "### 1. Оценка матожидания в схеме Бернулли\n",
    "\n",
    "В коде ниже произведём N раз n кратное подбрасывание монеты и проверим справедливость фомулы для закона больших чисел:\n",
    "\n",
    "$$\n",
    "\\mathrm{P}\\left(\\left|\\frac{S_n}{n}-p\\right|\\geq\\varepsilon\\right)=\\sum_{\\{k:\\left|\\frac{k}{n}-p\\right|\\geq\\varepsilon\\}}P_n(k) \\leq \\frac{1}{4n\\varepsilon^2}\n",
    "$$\n",
    "\n",
    "Неравенство\n",
    "$$\n",
    "\\mathrm{P}\\left(\\left|\\frac{S_n}{n}-p\\right|\\leq\\varepsilon\\right)\\geq 1-\\alpha \\tag{1}\n",
    "$$\n",
    "Будет выполнятся при \n",
    "$$\n",
    "n\\geq\\frac{1}{4\\varepsilon^2\\alpha}\n",
    "$$\n",
    "Пусть $\\alpha = 0.05$ и $\\varepsilon=0.02$, тогда для $n=12500$ выполнения неравенства (2) будет гарантированно.\n",
    "\n",
    "Проверим это\n"
   ]
  },
  {
   "cell_type": "code",
   "execution_count": 20,
   "metadata": {},
   "outputs": [
    {
     "name": "stdout",
     "output_type": "stream",
     "text": [
      "Estimate of success probability (1): 1.0\n"
     ]
    }
   ],
   "source": [
    "N = 5000\n",
    "n = 12500\n",
    "p = 0.5\n",
    "alpha = 0.05\n",
    "epsilon = 0.02\n",
    "diffs = []\n",
    "for _ in range(N):\n",
    "    omega = np.random.binomial(1, p, n)\n",
    "    S_n = np.sum(omega)\n",
    "    diff = np.abs(S_n / n - p)\n",
    "    diffs.append(diff)\n",
    "diffs = np.array(diffs)\n",
    "number_of_errors = np.sum(diffs > epsilon)\n",
    "print(f\"Estimate of success probability (1): {np.round(1-number_of_errors/N, 3)}\")"
   ]
  }
 ],
 "metadata": {
  "kernelspec": {
   "display_name": ".venv",
   "language": "python",
   "name": "python3"
  },
  "language_info": {
   "codemirror_mode": {
    "name": "ipython",
    "version": 3
   },
   "file_extension": ".py",
   "mimetype": "text/x-python",
   "name": "python",
   "nbconvert_exporter": "python",
   "pygments_lexer": "ipython3",
   "version": "3.11.5"
  },
  "orig_nbformat": 4
 },
 "nbformat": 4,
 "nbformat_minor": 2
}
